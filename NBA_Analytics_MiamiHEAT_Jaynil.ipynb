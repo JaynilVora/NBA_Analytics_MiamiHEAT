{
 "cells": [
  {
   "cell_type": "markdown",
   "metadata": {},
   "source": [
    "NBA Analytics\n",
    "Analysis of Secondary Assists and Drives of Miami HEAT"
   ]
  },
  {
   "cell_type": "code",
   "execution_count": 184,
   "metadata": {
    "collapsed": true
   },
   "outputs": [],
   "source": [
    "#Imported necessary libraries\n",
    "import pandas as pd\n",
    "import seaborn as sns\n",
    "import matplotlib.pyplot as plt\n",
    "%matplotlib inline"
   ]
  },
  {
   "cell_type": "code",
   "execution_count": 194,
   "metadata": {},
   "outputs": [
    {
     "data": {
      "text/html": [
       "<div>\n",
       "<style>\n",
       "    .dataframe thead tr:only-child th {\n",
       "        text-align: right;\n",
       "    }\n",
       "\n",
       "    .dataframe thead th {\n",
       "        text-align: left;\n",
       "    }\n",
       "\n",
       "    .dataframe tbody tr th {\n",
       "        vertical-align: top;\n",
       "    }\n",
       "</style>\n",
       "<table border=\"1\" class=\"dataframe\">\n",
       "  <thead>\n",
       "    <tr style=\"text-align: right;\">\n",
       "      <th></th>\n",
       "      <th>PLAYER</th>\n",
       "      <th>TEAM</th>\n",
       "      <th>GP</th>\n",
       "      <th>W</th>\n",
       "      <th>L</th>\n",
       "      <th>MIN</th>\n",
       "      <th>PASSES MADE</th>\n",
       "      <th>PASSES RECEIVED</th>\n",
       "      <th>AST</th>\n",
       "      <th>FT AST</th>\n",
       "      <th>SECONDARY AST</th>\n",
       "      <th>POTENTIAL AST</th>\n",
       "      <th>AST PTS</th>\n",
       "      <th>AST ADJ</th>\n",
       "      <th>AST TO PASS%</th>\n",
       "      <th>AST TO PASS%ÊADJ</th>\n",
       "    </tr>\n",
       "  </thead>\n",
       "  <tbody>\n",
       "    <tr>\n",
       "      <th>0</th>\n",
       "      <td>Goran Dragic</td>\n",
       "      <td>MIA</td>\n",
       "      <td>24</td>\n",
       "      <td>8</td>\n",
       "      <td>16</td>\n",
       "      <td>824</td>\n",
       "      <td>1408</td>\n",
       "      <td>1685</td>\n",
       "      <td>160</td>\n",
       "      <td>11</td>\n",
       "      <td>30</td>\n",
       "      <td>304</td>\n",
       "      <td>388</td>\n",
       "      <td>201</td>\n",
       "      <td>11.4</td>\n",
       "      <td>14.3</td>\n",
       "    </tr>\n",
       "    <tr>\n",
       "      <th>1</th>\n",
       "      <td>James Johnson</td>\n",
       "      <td>MIA</td>\n",
       "      <td>25</td>\n",
       "      <td>9</td>\n",
       "      <td>16</td>\n",
       "      <td>611</td>\n",
       "      <td>887</td>\n",
       "      <td>755</td>\n",
       "      <td>56</td>\n",
       "      <td>9</td>\n",
       "      <td>6</td>\n",
       "      <td>128</td>\n",
       "      <td>138</td>\n",
       "      <td>71</td>\n",
       "      <td>6.3</td>\n",
       "      <td>8.0</td>\n",
       "    </tr>\n",
       "    <tr>\n",
       "      <th>2</th>\n",
       "      <td>Justise Winslow</td>\n",
       "      <td>MIA</td>\n",
       "      <td>13</td>\n",
       "      <td>3</td>\n",
       "      <td>10</td>\n",
       "      <td>451</td>\n",
       "      <td>529</td>\n",
       "      <td>516</td>\n",
       "      <td>44</td>\n",
       "      <td>6</td>\n",
       "      <td>8</td>\n",
       "      <td>83</td>\n",
       "      <td>105</td>\n",
       "      <td>57</td>\n",
       "      <td>8.3</td>\n",
       "      <td>10.8</td>\n",
       "    </tr>\n",
       "    <tr>\n",
       "      <th>3</th>\n",
       "      <td>Tyler Johnson</td>\n",
       "      <td>MIA</td>\n",
       "      <td>27</td>\n",
       "      <td>9</td>\n",
       "      <td>18</td>\n",
       "      <td>839</td>\n",
       "      <td>1099</td>\n",
       "      <td>1176</td>\n",
       "      <td>84</td>\n",
       "      <td>5</td>\n",
       "      <td>17</td>\n",
       "      <td>186</td>\n",
       "      <td>200</td>\n",
       "      <td>106</td>\n",
       "      <td>7.6</td>\n",
       "      <td>9.6</td>\n",
       "    </tr>\n",
       "    <tr>\n",
       "      <th>4</th>\n",
       "      <td>Josh Richardson</td>\n",
       "      <td>MIA</td>\n",
       "      <td>19</td>\n",
       "      <td>5</td>\n",
       "      <td>14</td>\n",
       "      <td>559</td>\n",
       "      <td>689</td>\n",
       "      <td>751</td>\n",
       "      <td>41</td>\n",
       "      <td>5</td>\n",
       "      <td>8</td>\n",
       "      <td>102</td>\n",
       "      <td>101</td>\n",
       "      <td>54</td>\n",
       "      <td>6.0</td>\n",
       "      <td>7.8</td>\n",
       "    </tr>\n",
       "  </tbody>\n",
       "</table>\n",
       "</div>"
      ],
      "text/plain": [
       "            PLAYER TEAM  GP  W   L  MIN  PASSES MADE  PASSES RECEIVED  AST  \\\n",
       "0     Goran Dragic  MIA  24  8  16  824         1408             1685  160   \n",
       "1    James Johnson  MIA  25  9  16  611          887              755   56   \n",
       "2  Justise Winslow  MIA  13  3  10  451          529              516   44   \n",
       "3    Tyler Johnson  MIA  27  9  18  839         1099             1176   84   \n",
       "4  Josh Richardson  MIA  19  5  14  559          689              751   41   \n",
       "\n",
       "   FT AST  SECONDARY AST  POTENTIAL AST  AST PTS  AST ADJ  AST TO PASS%  \\\n",
       "0      11             30            304      388      201          11.4   \n",
       "1       9              6            128      138       71           6.3   \n",
       "2       6              8             83      105       57           8.3   \n",
       "3       5             17            186      200      106           7.6   \n",
       "4       5              8            102      101       54           6.0   \n",
       "\n",
       "   AST TO PASS%ÊADJ  \n",
       "0              14.3  \n",
       "1               8.0  \n",
       "2              10.8  \n",
       "3               9.6  \n",
       "4               7.8  "
      ]
     },
     "execution_count": 194,
     "metadata": {},
     "output_type": "execute_result"
    }
   ],
   "source": [
    "#Imported the dataset containing all the players of Miami HEAT and assists done by them\n",
    "dataset_Miami = pd.read_csv('/Users/jaynilvora/Downloads/AST_New.csv', encoding='latin')\n",
    "dataset_Miami.head()"
   ]
  },
  {
   "cell_type": "markdown",
   "metadata": {},
   "source": [
    "I wanted to analyze players in Miami HEAT who are really good at creating plays by passing, but don't necessarily rake up traditional \"Assists\" in their box score. There players who don't get a ton of traditional assists, but get a lots of \"Secondary Assists\". The guy who passes it to the assister. The hockey assist."
   ]
  },
  {
   "cell_type": "code",
   "execution_count": 186,
   "metadata": {},
   "outputs": [
    {
     "data": {
      "text/plain": [
       "<matplotlib.text.Text at 0x11b9eb588>"
      ]
     },
     "execution_count": 186,
     "metadata": {},
     "output_type": "execute_result"
    },
    {
     "data": {
      "image/png": "[encoded data removed]",
      "text/plain": [
       "<matplotlib.figure.Figure at 0x11884d0f0>"
      ]
     },
     "metadata": {},
     "output_type": "display_data"
    }
   ],
   "source": [
    "#Scatterplot shows all the players and their Primary and Secondary Assists of Miami HEAT\n",
    "plt1 = dataset_Miami.plot(kind='scatter',x='SECONDARY AST',y='AST',color=\"Red\",alpha=0.6) \n",
    "plt1.text(28,152,\"Dragic\",size='large')\n",
    "plt1.set_xlabel('Secondary Assists')\n",
    "plt1.set_ylabel('Primary Assists')"
   ]
  },
  {
   "cell_type": "markdown",
   "metadata": {},
   "source": [
    "I plotted the Primary assists and Secondary assists of every player in. As we can see that Goran Dragic has the most number of secondary assists."
   ]
  },
  {
   "cell_type": "code",
   "execution_count": 195,
   "metadata": {},
   "outputs": [
    {
     "data": {
      "text/html": [
       "<div>\n",
       "<style>\n",
       "    .dataframe thead tr:only-child th {\n",
       "        text-align: right;\n",
       "    }\n",
       "\n",
       "    .dataframe thead th {\n",
       "        text-align: left;\n",
       "    }\n",
       "\n",
       "    .dataframe tbody tr th {\n",
       "        vertical-align: top;\n",
       "    }\n",
       "</style>\n",
       "<table border=\"1\" class=\"dataframe\">\n",
       "  <thead>\n",
       "    <tr style=\"text-align: right;\">\n",
       "      <th></th>\n",
       "      <th>PLAYER</th>\n",
       "      <th>TEAM</th>\n",
       "      <th>GP</th>\n",
       "      <th>W</th>\n",
       "      <th>L</th>\n",
       "      <th>MIN</th>\n",
       "      <th>PASSES MADE</th>\n",
       "      <th>PASSES RECEIVED</th>\n",
       "      <th>AST</th>\n",
       "      <th>FT AST</th>\n",
       "      <th>SECONDARY AST</th>\n",
       "      <th>POTENTIAL AST</th>\n",
       "      <th>AST PTS</th>\n",
       "      <th>AST ADJ</th>\n",
       "      <th>AST TO PASS%</th>\n",
       "      <th>AST TO PASS%ÊADJ</th>\n",
       "    </tr>\n",
       "  </thead>\n",
       "  <tbody>\n",
       "    <tr>\n",
       "      <th>0</th>\n",
       "      <td>Russell Westbrook</td>\n",
       "      <td>OKC</td>\n",
       "      <td>28</td>\n",
       "      <td>16</td>\n",
       "      <td>12</td>\n",
       "      <td>985</td>\n",
       "      <td>1691</td>\n",
       "      <td>2139</td>\n",
       "      <td>305</td>\n",
       "      <td>33</td>\n",
       "      <td>35</td>\n",
       "      <td>560</td>\n",
       "      <td>698</td>\n",
       "      <td>374</td>\n",
       "      <td>18.0</td>\n",
       "      <td>22.1</td>\n",
       "    </tr>\n",
       "    <tr>\n",
       "      <th>1</th>\n",
       "      <td>Chris Paul</td>\n",
       "      <td>LAC</td>\n",
       "      <td>29</td>\n",
       "      <td>21</td>\n",
       "      <td>8</td>\n",
       "      <td>921</td>\n",
       "      <td>1971</td>\n",
       "      <td>2161</td>\n",
       "      <td>282</td>\n",
       "      <td>29</td>\n",
       "      <td>44</td>\n",
       "      <td>495</td>\n",
       "      <td>653</td>\n",
       "      <td>356</td>\n",
       "      <td>14.3</td>\n",
       "      <td>18.1</td>\n",
       "    </tr>\n",
       "    <tr>\n",
       "      <th>2</th>\n",
       "      <td>Kyle Lowry</td>\n",
       "      <td>TOR</td>\n",
       "      <td>26</td>\n",
       "      <td>19</td>\n",
       "      <td>7</td>\n",
       "      <td>965</td>\n",
       "      <td>1633</td>\n",
       "      <td>1823</td>\n",
       "      <td>193</td>\n",
       "      <td>28</td>\n",
       "      <td>39</td>\n",
       "      <td>350</td>\n",
       "      <td>458</td>\n",
       "      <td>260</td>\n",
       "      <td>11.8</td>\n",
       "      <td>15.9</td>\n",
       "    </tr>\n",
       "    <tr>\n",
       "      <th>3</th>\n",
       "      <td>James Harden</td>\n",
       "      <td>HOU</td>\n",
       "      <td>29</td>\n",
       "      <td>21</td>\n",
       "      <td>8</td>\n",
       "      <td>1067</td>\n",
       "      <td>1940</td>\n",
       "      <td>2386</td>\n",
       "      <td>338</td>\n",
       "      <td>27</td>\n",
       "      <td>51</td>\n",
       "      <td>626</td>\n",
       "      <td>820</td>\n",
       "      <td>416</td>\n",
       "      <td>17.4</td>\n",
       "      <td>21.4</td>\n",
       "    </tr>\n",
       "    <tr>\n",
       "      <th>4</th>\n",
       "      <td>John Wall</td>\n",
       "      <td>WAS</td>\n",
       "      <td>25</td>\n",
       "      <td>12</td>\n",
       "      <td>13</td>\n",
       "      <td>906</td>\n",
       "      <td>1464</td>\n",
       "      <td>1898</td>\n",
       "      <td>242</td>\n",
       "      <td>23</td>\n",
       "      <td>38</td>\n",
       "      <td>455</td>\n",
       "      <td>561</td>\n",
       "      <td>302</td>\n",
       "      <td>16.5</td>\n",
       "      <td>20.6</td>\n",
       "    </tr>\n",
       "  </tbody>\n",
       "</table>\n",
       "</div>"
      ],
      "text/plain": [
       "              PLAYER TEAM  GP   W   L   MIN  PASSES MADE  PASSES RECEIVED  \\\n",
       "0  Russell Westbrook  OKC  28  16  12   985         1691             2139   \n",
       "1         Chris Paul  LAC  29  21   8   921         1971             2161   \n",
       "2         Kyle Lowry  TOR  26  19   7   965         1633             1823   \n",
       "3       James Harden  HOU  29  21   8  1067         1940             2386   \n",
       "4          John Wall  WAS  25  12  13   906         1464             1898   \n",
       "\n",
       "   AST  FT AST  SECONDARY AST  POTENTIAL AST  AST PTS  AST ADJ  AST TO PASS%  \\\n",
       "0  305      33             35            560      698      374          18.0   \n",
       "1  282      29             44            495      653      356          14.3   \n",
       "2  193      28             39            350      458      260          11.8   \n",
       "3  338      27             51            626      820      416          17.4   \n",
       "4  242      23             38            455      561      302          16.5   \n",
       "\n",
       "   AST TO PASS%ÊADJ  \n",
       "0              22.1  \n",
       "1              18.1  \n",
       "2              15.9  \n",
       "3              21.4  \n",
       "4              20.6  "
      ]
     },
     "execution_count": 195,
     "metadata": {},
     "output_type": "execute_result"
    }
   ],
   "source": [
    "#Imported the dataset containing players of all NBA teams and assists done by them\n",
    "dataset_allTeams = pd.read_csv('/Users/jaynilvora/Downloads/AST.csv', encoding='latin')\n",
    "dataset_allTeams.head()"
   ]
  },
  {
   "cell_type": "code",
   "execution_count": 219,
   "metadata": {},
   "outputs": [
    {
     "data": {
      "text/plain": [
       "<matplotlib.text.Text at 0x11d9a56a0>"
      ]
     },
     "execution_count": 219,
     "metadata": {},
     "output_type": "execute_result"
    },
    {
     "data": {
      "image/png": "[encoded data removed]",
      "text/plain": [
       "<matplotlib.figure.Figure at 0x11c8702e8>"
      ]
     },
     "metadata": {},
     "output_type": "display_data"
    }
   ],
   "source": [
    "#Counted the total secondary assists done by all teams\n",
    "#Grouped by teams\n",
    "#Bar graph to show secondary assists by all teams\n",
    "team_AST = dataset_allTeams.groupby('TEAM').sum()\n",
    "plt2 = team_AST['SECONDARY AST'].sort_values(ascending=False).plot(kind='bar')\n",
    "plt2.set_ylabel('Secondary Assists')\n",
    "plt2.set_xlabel('Teams')\n",
    "plt2.set_title('Secondary assists by team')"
   ]
  },
  {
   "cell_type": "markdown",
   "metadata": {},
   "source": [
    "As we can see from the bar graph above, Miami HEAT has the lowest number of secondary assists. This is an area where the team can immprove."
   ]
  },
  {
   "cell_type": "markdown",
   "metadata": {},
   "source": [
    "Analysis of drives of Miami HEAT\n",
    "Driving to the basket is standard in the NBA. You can make a layup, get fouled, or kick it out for a 3PT assist. I was curious how Miami HEAT did compared to other teams. I wanted to analyze the drives of Miami HEAT."
   ]
  },
  {
   "cell_type": "code",
   "execution_count": 204,
   "metadata": {},
   "outputs": [
    {
     "data": {
      "text/html": [
       "<div>\n",
       "<style>\n",
       "    .dataframe thead tr:only-child th {\n",
       "        text-align: right;\n",
       "    }\n",
       "\n",
       "    .dataframe thead th {\n",
       "        text-align: left;\n",
       "    }\n",
       "\n",
       "    .dataframe tbody tr th {\n",
       "        vertical-align: top;\n",
       "    }\n",
       "</style>\n",
       "<table border=\"1\" class=\"dataframe\">\n",
       "  <thead>\n",
       "    <tr style=\"text-align: right;\">\n",
       "      <th></th>\n",
       "      <th>PLAYER</th>\n",
       "      <th>TEAM</th>\n",
       "      <th>GP</th>\n",
       "      <th>W</th>\n",
       "      <th>L</th>\n",
       "      <th>MIN</th>\n",
       "      <th>DRIVES</th>\n",
       "      <th>FGM</th>\n",
       "      <th>FGA</th>\n",
       "      <th>FG%</th>\n",
       "      <th>...</th>\n",
       "      <th>PTS</th>\n",
       "      <th>PTS%</th>\n",
       "      <th>PASS</th>\n",
       "      <th>PASS%</th>\n",
       "      <th>AST</th>\n",
       "      <th>AST%</th>\n",
       "      <th>TO</th>\n",
       "      <th>TOV%</th>\n",
       "      <th>PF</th>\n",
       "      <th>PF%</th>\n",
       "    </tr>\n",
       "  </thead>\n",
       "  <tbody>\n",
       "    <tr>\n",
       "      <th>0</th>\n",
       "      <td>Arinze Onuaku</td>\n",
       "      <td>ORL</td>\n",
       "      <td>8</td>\n",
       "      <td>3</td>\n",
       "      <td>5</td>\n",
       "      <td>28</td>\n",
       "      <td>0</td>\n",
       "      <td>0</td>\n",
       "      <td>0</td>\n",
       "      <td>0.0</td>\n",
       "      <td>...</td>\n",
       "      <td>0</td>\n",
       "      <td>0.0</td>\n",
       "      <td>0</td>\n",
       "      <td>0.0</td>\n",
       "      <td>0</td>\n",
       "      <td>0.0</td>\n",
       "      <td>0</td>\n",
       "      <td>0.0</td>\n",
       "      <td>0</td>\n",
       "      <td>0.0</td>\n",
       "    </tr>\n",
       "    <tr>\n",
       "      <th>1</th>\n",
       "      <td>Reggie Bullock</td>\n",
       "      <td>DET</td>\n",
       "      <td>19</td>\n",
       "      <td>9</td>\n",
       "      <td>10</td>\n",
       "      <td>258</td>\n",
       "      <td>2</td>\n",
       "      <td>0</td>\n",
       "      <td>2</td>\n",
       "      <td>0.0</td>\n",
       "      <td>...</td>\n",
       "      <td>0</td>\n",
       "      <td>0.0</td>\n",
       "      <td>0</td>\n",
       "      <td>0.0</td>\n",
       "      <td>0</td>\n",
       "      <td>0.0</td>\n",
       "      <td>0</td>\n",
       "      <td>0.0</td>\n",
       "      <td>0</td>\n",
       "      <td>0.0</td>\n",
       "    </tr>\n",
       "    <tr>\n",
       "      <th>2</th>\n",
       "      <td>Cheick Diallo</td>\n",
       "      <td>NOP</td>\n",
       "      <td>10</td>\n",
       "      <td>5</td>\n",
       "      <td>5</td>\n",
       "      <td>96</td>\n",
       "      <td>1</td>\n",
       "      <td>0</td>\n",
       "      <td>0</td>\n",
       "      <td>0.0</td>\n",
       "      <td>...</td>\n",
       "      <td>0</td>\n",
       "      <td>0.0</td>\n",
       "      <td>0</td>\n",
       "      <td>0.0</td>\n",
       "      <td>0</td>\n",
       "      <td>0.0</td>\n",
       "      <td>1</td>\n",
       "      <td>100.0</td>\n",
       "      <td>0</td>\n",
       "      <td>0.0</td>\n",
       "    </tr>\n",
       "    <tr>\n",
       "      <th>3</th>\n",
       "      <td>Jakob Poeltl</td>\n",
       "      <td>TOR</td>\n",
       "      <td>36</td>\n",
       "      <td>24</td>\n",
       "      <td>12</td>\n",
       "      <td>364</td>\n",
       "      <td>4</td>\n",
       "      <td>0</td>\n",
       "      <td>2</td>\n",
       "      <td>0.0</td>\n",
       "      <td>...</td>\n",
       "      <td>0</td>\n",
       "      <td>0.0</td>\n",
       "      <td>1</td>\n",
       "      <td>25.0</td>\n",
       "      <td>0</td>\n",
       "      <td>0.0</td>\n",
       "      <td>1</td>\n",
       "      <td>25.0</td>\n",
       "      <td>0</td>\n",
       "      <td>0.0</td>\n",
       "    </tr>\n",
       "    <tr>\n",
       "      <th>4</th>\n",
       "      <td>Greivis Vasquez</td>\n",
       "      <td>BKN</td>\n",
       "      <td>3</td>\n",
       "      <td>1</td>\n",
       "      <td>2</td>\n",
       "      <td>39</td>\n",
       "      <td>6</td>\n",
       "      <td>0</td>\n",
       "      <td>2</td>\n",
       "      <td>0.0</td>\n",
       "      <td>...</td>\n",
       "      <td>0</td>\n",
       "      <td>0.0</td>\n",
       "      <td>3</td>\n",
       "      <td>50.0</td>\n",
       "      <td>0</td>\n",
       "      <td>0.0</td>\n",
       "      <td>1</td>\n",
       "      <td>16.7</td>\n",
       "      <td>0</td>\n",
       "      <td>0.0</td>\n",
       "    </tr>\n",
       "  </tbody>\n",
       "</table>\n",
       "<p>5 rows × 23 columns</p>\n",
       "</div>"
      ],
      "text/plain": [
       "            PLAYER TEAM  GP   W   L  MIN  DRIVES  FGM  FGA  FG% ...   PTS  \\\n",
       "0    Arinze Onuaku  ORL   8   3   5   28       0    0    0  0.0 ...     0   \n",
       "1   Reggie Bullock  DET  19   9  10  258       2    0    2  0.0 ...     0   \n",
       "2    Cheick Diallo  NOP  10   5   5   96       1    0    0  0.0 ...     0   \n",
       "3     Jakob Poeltl  TOR  36  24  12  364       4    0    2  0.0 ...     0   \n",
       "4  Greivis Vasquez  BKN   3   1   2   39       6    0    2  0.0 ...     0   \n",
       "\n",
       "   PTS%  PASS  PASS%  AST  AST%  TO   TOV%  PF  PF%  \n",
       "0   0.0     0    0.0    0   0.0   0    0.0   0  0.0  \n",
       "1   0.0     0    0.0    0   0.0   0    0.0   0  0.0  \n",
       "2   0.0     0    0.0    0   0.0   1  100.0   0  0.0  \n",
       "3   0.0     1   25.0    0   0.0   1   25.0   0  0.0  \n",
       "4   0.0     3   50.0    0   0.0   1   16.7   0  0.0  \n",
       "\n",
       "[5 rows x 23 columns]"
      ]
     },
     "execution_count": 204,
     "metadata": {},
     "output_type": "execute_result"
    }
   ],
   "source": [
    "#Imported the dataset containing players of all teams and information on their drives\n",
    "Dataset_Drives_All1 = pd.read_csv('/Users/jaynilvora/Downloads/Drives.csv', encoding='latin')\n",
    "team = df.groupby('TEAM').sum()\n",
    "Dataset_Drives_All1.head()"
   ]
  },
  {
   "cell_type": "code",
   "execution_count": 205,
   "metadata": {},
   "outputs": [
    {
     "data": {
      "text/html": [
       "<div>\n",
       "<style>\n",
       "    .dataframe thead tr:only-child th {\n",
       "        text-align: right;\n",
       "    }\n",
       "\n",
       "    .dataframe thead th {\n",
       "        text-align: left;\n",
       "    }\n",
       "\n",
       "    .dataframe tbody tr th {\n",
       "        vertical-align: top;\n",
       "    }\n",
       "</style>\n",
       "<table border=\"1\" class=\"dataframe\">\n",
       "  <thead>\n",
       "    <tr style=\"text-align: right;\">\n",
       "      <th></th>\n",
       "      <th>PLAYER</th>\n",
       "      <th>TEAM</th>\n",
       "      <th>GP</th>\n",
       "      <th>W</th>\n",
       "      <th>L</th>\n",
       "      <th>MIN</th>\n",
       "      <th>DRIVES</th>\n",
       "      <th>FGM</th>\n",
       "      <th>FGA</th>\n",
       "      <th>FG%</th>\n",
       "      <th>...</th>\n",
       "      <th>PTS</th>\n",
       "      <th>PTS%</th>\n",
       "      <th>PASS</th>\n",
       "      <th>PASS%</th>\n",
       "      <th>AST</th>\n",
       "      <th>AST%</th>\n",
       "      <th>TO</th>\n",
       "      <th>TOV%</th>\n",
       "      <th>PF</th>\n",
       "      <th>PF%</th>\n",
       "    </tr>\n",
       "  </thead>\n",
       "  <tbody>\n",
       "    <tr>\n",
       "      <th>0</th>\n",
       "      <td>Luke Babbitt</td>\n",
       "      <td>MIA</td>\n",
       "      <td>56</td>\n",
       "      <td>29</td>\n",
       "      <td>27</td>\n",
       "      <td>875</td>\n",
       "      <td>43</td>\n",
       "      <td>2</td>\n",
       "      <td>15</td>\n",
       "      <td>13.3</td>\n",
       "      <td>...</td>\n",
       "      <td>7</td>\n",
       "      <td>16.3</td>\n",
       "      <td>23</td>\n",
       "      <td>53.5</td>\n",
       "      <td>4</td>\n",
       "      <td>9.3</td>\n",
       "      <td>3</td>\n",
       "      <td>7.0</td>\n",
       "      <td>3</td>\n",
       "      <td>7.0</td>\n",
       "    </tr>\n",
       "    <tr>\n",
       "      <th>1</th>\n",
       "      <td>Josh McRoberts</td>\n",
       "      <td>MIA</td>\n",
       "      <td>22</td>\n",
       "      <td>6</td>\n",
       "      <td>16</td>\n",
       "      <td>381</td>\n",
       "      <td>31</td>\n",
       "      <td>3</td>\n",
       "      <td>15</td>\n",
       "      <td>20.0</td>\n",
       "      <td>...</td>\n",
       "      <td>7</td>\n",
       "      <td>22.6</td>\n",
       "      <td>11</td>\n",
       "      <td>35.5</td>\n",
       "      <td>1</td>\n",
       "      <td>3.2</td>\n",
       "      <td>3</td>\n",
       "      <td>9.7</td>\n",
       "      <td>2</td>\n",
       "      <td>6.5</td>\n",
       "    </tr>\n",
       "    <tr>\n",
       "      <th>2</th>\n",
       "      <td>Okaro White</td>\n",
       "      <td>MIA</td>\n",
       "      <td>21</td>\n",
       "      <td>17</td>\n",
       "      <td>4</td>\n",
       "      <td>337</td>\n",
       "      <td>10</td>\n",
       "      <td>0</td>\n",
       "      <td>4</td>\n",
       "      <td>0.0</td>\n",
       "      <td>...</td>\n",
       "      <td>3</td>\n",
       "      <td>30.0</td>\n",
       "      <td>4</td>\n",
       "      <td>40.0</td>\n",
       "      <td>0</td>\n",
       "      <td>0.0</td>\n",
       "      <td>0</td>\n",
       "      <td>0.0</td>\n",
       "      <td>2</td>\n",
       "      <td>20.0</td>\n",
       "    </tr>\n",
       "    <tr>\n",
       "      <th>3</th>\n",
       "      <td>Rodney McGruder</td>\n",
       "      <td>MIA</td>\n",
       "      <td>61</td>\n",
       "      <td>30</td>\n",
       "      <td>31</td>\n",
       "      <td>1555</td>\n",
       "      <td>97</td>\n",
       "      <td>16</td>\n",
       "      <td>50</td>\n",
       "      <td>32.0</td>\n",
       "      <td>...</td>\n",
       "      <td>38</td>\n",
       "      <td>39.2</td>\n",
       "      <td>34</td>\n",
       "      <td>35.1</td>\n",
       "      <td>9</td>\n",
       "      <td>9.3</td>\n",
       "      <td>9</td>\n",
       "      <td>9.3</td>\n",
       "      <td>6</td>\n",
       "      <td>6.2</td>\n",
       "    </tr>\n",
       "    <tr>\n",
       "      <th>4</th>\n",
       "      <td>Josh Richardson</td>\n",
       "      <td>MIA</td>\n",
       "      <td>36</td>\n",
       "      <td>13</td>\n",
       "      <td>23</td>\n",
       "      <td>1041</td>\n",
       "      <td>141</td>\n",
       "      <td>26</td>\n",
       "      <td>65</td>\n",
       "      <td>40.0</td>\n",
       "      <td>...</td>\n",
       "      <td>65</td>\n",
       "      <td>46.1</td>\n",
       "      <td>59</td>\n",
       "      <td>41.8</td>\n",
       "      <td>16</td>\n",
       "      <td>11.3</td>\n",
       "      <td>8</td>\n",
       "      <td>5.7</td>\n",
       "      <td>12</td>\n",
       "      <td>8.5</td>\n",
       "    </tr>\n",
       "  </tbody>\n",
       "</table>\n",
       "<p>5 rows × 23 columns</p>\n",
       "</div>"
      ],
      "text/plain": [
       "            PLAYER TEAM  GP   W   L   MIN  DRIVES  FGM  FGA   FG%  ...   PTS  \\\n",
       "0     Luke Babbitt  MIA  56  29  27   875      43    2   15  13.3  ...     7   \n",
       "1   Josh McRoberts  MIA  22   6  16   381      31    3   15  20.0  ...     7   \n",
       "2      Okaro White  MIA  21  17   4   337      10    0    4   0.0  ...     3   \n",
       "3  Rodney McGruder  MIA  61  30  31  1555      97   16   50  32.0  ...    38   \n",
       "4  Josh Richardson  MIA  36  13  23  1041     141   26   65  40.0  ...    65   \n",
       "\n",
       "   PTS%  PASS  PASS%  AST  AST%  TO  TOV%  PF   PF%  \n",
       "0  16.3    23   53.5    4   9.3   3   7.0   3   7.0  \n",
       "1  22.6    11   35.5    1   3.2   3   9.7   2   6.5  \n",
       "2  30.0     4   40.0    0   0.0   0   0.0   2  20.0  \n",
       "3  39.2    34   35.1    9   9.3   9   9.3   6   6.2  \n",
       "4  46.1    59   41.8   16  11.3   8   5.7  12   8.5  \n",
       "\n",
       "[5 rows x 23 columns]"
      ]
     },
     "execution_count": 205,
     "metadata": {},
     "output_type": "execute_result"
    }
   ],
   "source": [
    "#Imported the dataset containing players of Miami HEAT and information on their drives\n",
    "Dataset_Drive_Miami = pd.read_csv('/Users/jaynilvora/Downloads/Drives_Miami.csv', encoding='latin')\n",
    "Dataset_Drive_Miami.head()"
   ]
  },
  {
   "cell_type": "code",
   "execution_count": 212,
   "metadata": {},
   "outputs": [],
   "source": [
    "#Calculated points per drive\n",
    "team['PTSperDRIVE'] = team['PTS']/team['DRIVES']"
   ]
  },
  {
   "cell_type": "code",
   "execution_count": 213,
   "metadata": {},
   "outputs": [
    {
     "data": {
      "text/plain": [
       "<matplotlib.text.Text at 0x11cba0668>"
      ]
     },
     "execution_count": 213,
     "metadata": {},
     "output_type": "execute_result"
    },
    {
     "data": {
      "image/png": "[encoded data removed]",
      "text/plain": [
       "<matplotlib.figure.Figure at 0x1186ab780>"
      ]
     },
     "metadata": {},
     "output_type": "display_data"
    },
    {
     "data": {
      "image/png": "[encoded data removed]",
      "text/plain": [
       "<matplotlib.figure.Figure at 0x119c49908>"
      ]
     },
     "metadata": {},
     "output_type": "display_data"
    }
   ],
   "source": [
    "#Bar graph to show Points per Drive of all teams\n",
    "plt3 = team['PTSperDRIVE'].sort_values(ascending=False).plot(kind='bar')\n",
    "plt3.set_ylabel('Points per Drive')\n",
    "plt3.set_xlabel('Teams')\n",
    "plt3.set_title('Points per drive by team')\n",
    "\n",
    "#Bar graph to show total number of drives by each player in Miami HEAT\n",
    "plt4 = Dataset_Drive_Miami.plot(kind='bar',x='PLAYER',y='DRIVES',color=\"Red\",alpha=0.6) \n",
    "plt4.set_ylabel('Drives')\n",
    "plt4.set_xlabel('Players')\n",
    "plt4.set_title('Total drives for Miami HEAT players')"
   ]
  },
  {
   "cell_type": "markdown",
   "metadata": {},
   "source": [
    "It turned out, Miami gets the least points per drive of any team in the NBA. To figure out why, first, note that Dragic is the main \"driver\" of The Heat."
   ]
  },
  {
   "cell_type": "code",
   "execution_count": 209,
   "metadata": {},
   "outputs": [
    {
     "data": {
      "text/plain": [
       "<matplotlib.text.Text at 0x11c875908>"
      ]
     },
     "execution_count": 209,
     "metadata": {},
     "output_type": "execute_result"
    },
    {
     "data": {
      "image/png": "[encoded data removed]",
      "text/plain": [
       "<matplotlib.figure.Figure at 0x118f09748>"
      ]
     },
     "metadata": {},
     "output_type": "display_data"
    },
    {
     "data": {
      "image/png": "[encoded data removed]",
      "text/plain": [
       "<matplotlib.figure.Figure at 0x119b2d438>"
      ]
     },
     "metadata": {},
     "output_type": "display_data"
    }
   ],
   "source": [
    "plt5 = Dataset_Drives_All1.plot(kind='scatter',x='DRIVES',y='FTA',color=\"Red\",alpha=0.6) \n",
    "plt5.text(660,70,\"Dragic\",size='large')\n",
    "plt5.set_ylabel('Free throws from drives')\n",
    "plt5.set_xlabel('Total Drives')\n",
    "plt5.set_title('Dragic does not get to line from drives')\n",
    "\n",
    "plt6 = Dataset_Drives_All1.plot(kind='scatter',x='DRIVES',y='FGM',color=\"Red\",alpha=0.6) \n",
    "plt6.text(660,137,\"Dragic\",size='large')\n",
    "plt6.set_ylabel('Made field goals from drives')\n",
    "plt6.set_xlabel('Total Drives')\n",
    "plt6.set_title('Dragic does not makes shots from the drives')"
   ]
  },
  {
   "cell_type": "markdown",
   "metadata": {},
   "source": [
    "So why is do Dragic drives not lead to points? First, for the high number of drives Dragic s, he hardly gets fouled. He has committed ~700 drives so far this season, but he gets fouled at the rate of someone who only has ~350 drives. Fouls are by far the most efficient way to end a drive.\n",
    "\n",
    "Additionally, he is not great at making baskets out of drives. He is not as much of an anomaly here, but he is still on the low end."
   ]
  },
  {
   "cell_type": "code",
   "execution_count": 218,
   "metadata": {},
   "outputs": [
    {
     "data": {
      "text/plain": [
       "<matplotlib.text.Text at 0x11d809710>"
      ]
     },
     "execution_count": 218,
     "metadata": {},
     "output_type": "execute_result"
    },
    {
     "data": {
      "image/png": "[encoded data removed]",
      "text/plain": [
       "<matplotlib.figure.Figure at 0x11d5c1780>"
      ]
     },
     "metadata": {},
     "output_type": "display_data"
    },
    {
     "data": {
      "image/png": "[encoded data removed]",
      "text/plain": [
       "<matplotlib.figure.Figure at 0x11d679940>"
      ]
     },
     "metadata": {},
     "output_type": "display_data"
    }
   ],
   "source": [
    "plt7 = Dataset_Drives_All1.plot(kind='scatter',x='DRIVES',y='PASS',color=\"Red\",alpha=0.6) \n",
    "plt7.text(660,310,\"Dragic\",size='large')\n",
    "plt7.set_ylabel('Passes out of drives')\n",
    "plt7.set_xlabel('Total Drives')\n",
    "plt7.set_title('Dragic likes to pass out of drives')\n",
    "\n",
    "plt8 = Dataset_Drives_All1.plot(kind='scatter',x='PASS',y='AST',color=\"Red\",alpha=0.6) \n",
    "plt8.text(308,80,\"Dragic\",size='large')\n",
    "plt8.set_xlabel('Passes out of drives')\n",
    "plt8.set_ylabel('Assists out of drives')\n",
    "plt8.set_title('Dragic is not an exceptional assister')\n",
    "\n"
   ]
  },
  {
   "cell_type": "markdown",
   "metadata": {},
   "source": [
    "So what does Dragic do out of drives? Dragic loves to pass out of drives. He really stands out as someone who loves to pass when he drives. Unfortunately, he is not very efficient in turning those passes in to assists. Perhaps he needs to commit to the drive more often."
   ]
  }
 ],
 "metadata": {
  "kernelspec": {
   "display_name": "Python 3",
   "language": "python",
   "name": "python3"
  },
  "language_info": {
   "codemirror_mode": {
    "name": "ipython",
    "version": 3
   },
   "file_extension": ".py",
   "mimetype": "text/x-python",
   "name": "python",
   "nbconvert_exporter": "python",
   "pygments_lexer": "ipython3",
   "version": "3.6.1"
  }
 },
 "nbformat": 4,
 "nbformat_minor": 2
}
